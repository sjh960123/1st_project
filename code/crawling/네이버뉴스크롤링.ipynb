{
  "nbformat": 4,
  "nbformat_minor": 0,
  "metadata": {
    "colab": {
      "provenance": []
    },
    "kernelspec": {
      "name": "python3",
      "display_name": "Python 3"
    },
    "language_info": {
      "name": "python"
    }
  },
  "cells": [
    {
      "cell_type": "code",
      "source": [
        "!sudo apt-get install -y fonts-nanum\n",
        "!sudo fc-cache -fv\n",
        "!rm ~/.cache/matplotlib -rf"
      ],
      "metadata": {
        "colab": {
          "base_uri": "https://localhost:8080/"
        },
        "id": "iwBKSorGkW9z",
        "outputId": "cb44391f-5e74-4dee-ca7e-d853afddf8e5"
      },
      "execution_count": 1,
      "outputs": [
        {
          "output_type": "stream",
          "name": "stdout",
          "text": [
            "Reading package lists... Done\n",
            "Building dependency tree       \n",
            "Reading state information... Done\n",
            "fonts-nanum is already the newest version (20180306-3).\n",
            "0 upgraded, 0 newly installed, 0 to remove and 23 not upgraded.\n",
            "/usr/share/fonts: caching, new cache contents: 0 fonts, 1 dirs\n",
            "/usr/share/fonts/truetype: caching, new cache contents: 0 fonts, 3 dirs\n",
            "/usr/share/fonts/truetype/humor-sans: caching, new cache contents: 1 fonts, 0 dirs\n",
            "/usr/share/fonts/truetype/liberation: caching, new cache contents: 16 fonts, 0 dirs\n",
            "/usr/share/fonts/truetype/nanum: caching, new cache contents: 10 fonts, 0 dirs\n",
            "/usr/local/share/fonts: caching, new cache contents: 0 fonts, 0 dirs\n",
            "/root/.local/share/fonts: skipping, no such directory\n",
            "/root/.fonts: skipping, no such directory\n",
            "/usr/share/fonts/truetype: skipping, looped directory detected\n",
            "/usr/share/fonts/truetype/humor-sans: skipping, looped directory detected\n",
            "/usr/share/fonts/truetype/liberation: skipping, looped directory detected\n",
            "/usr/share/fonts/truetype/nanum: skipping, looped directory detected\n",
            "/var/cache/fontconfig: cleaning cache directory\n",
            "/root/.cache/fontconfig: not cleaning non-existent cache directory\n",
            "/root/.fontconfig: not cleaning non-existent cache directory\n",
            "fc-cache: succeeded\n"
          ]
        }
      ]
    },
    {
      "cell_type": "code",
      "execution_count": 2,
      "metadata": {
        "id": "nJHaXsbbK_2u"
      },
      "outputs": [],
      "source": [
        "import numpy as np\n",
        "import pandas as pd\n",
        "import matplotlib.pyplot as plt\n",
        "import seaborn as sns\n",
        "import tensorflow as tf"
      ]
    },
    {
      "cell_type": "code",
      "source": [
        "from tqdm import tqdm#진행상황 보여준다."
      ],
      "metadata": {
        "id": "wrWz4xsVLC8A"
      },
      "execution_count": 3,
      "outputs": []
    },
    {
      "cell_type": "code",
      "source": [
        "#한글폰트 런타임 다시 시작\n",
        "plt.rc('font',family = 'NanumBarunGothic')"
      ],
      "metadata": {
        "id": "GV4tzvrlkHs0"
      },
      "execution_count": 4,
      "outputs": []
    },
    {
      "cell_type": "markdown",
      "source": [
        "# 크롤링으로 데이터 수집"
      ],
      "metadata": {
        "id": "BAdnkDQvUNjo"
      }
    },
    {
      "cell_type": "code",
      "source": [
        "startDate='2023.03.17'\n",
        "startDate.replace('.','')"
      ],
      "metadata": {
        "colab": {
          "base_uri": "https://localhost:8080/",
          "height": 35
        },
        "id": "-dxgBeId9YDO",
        "outputId": "0f2458fc-6a34-45e0-bd0a-b3dc92e8f82c"
      },
      "execution_count": 5,
      "outputs": [
        {
          "output_type": "execute_result",
          "data": {
            "text/plain": [
              "'20230317'"
            ],
            "application/vnd.google.colaboratory.intrinsic+json": {
              "type": "string"
            }
          },
          "metadata": {},
          "execution_count": 5
        }
      ]
    },
    {
      "cell_type": "code",
      "source": [
        "list1=[1,2,3]\n",
        "list1[1:3]"
      ],
      "metadata": {
        "colab": {
          "base_uri": "https://localhost:8080/"
        },
        "id": "Z5xo2ofpIpUd",
        "outputId": "9b7a5c7c-f13e-4dcb-802e-8a250f6418f3"
      },
      "execution_count": 6,
      "outputs": [
        {
          "output_type": "execute_result",
          "data": {
            "text/plain": [
              "[2, 3]"
            ]
          },
          "metadata": {},
          "execution_count": 6
        }
      ]
    },
    {
      "cell_type": "code",
      "source": [
        "!pip install beautifulsoup4"
      ],
      "metadata": {
        "colab": {
          "base_uri": "https://localhost:8080/"
        },
        "id": "heR2Z_WwLVFo",
        "outputId": "f15ca27e-37c2-46df-aa80-f1e7402ca522"
      },
      "execution_count": 7,
      "outputs": [
        {
          "output_type": "stream",
          "name": "stdout",
          "text": [
            "Looking in indexes: https://pypi.org/simple, https://us-python.pkg.dev/colab-wheels/public/simple/\n",
            "Requirement already satisfied: beautifulsoup4 in /usr/local/lib/python3.9/dist-packages (4.11.2)\n",
            "Requirement already satisfied: soupsieve>1.2 in /usr/local/lib/python3.9/dist-packages (from beautifulsoup4) (2.4)\n"
          ]
        }
      ]
    },
    {
      "cell_type": "code",
      "source": [
        "from bs4 import BeautifulSoup"
      ],
      "metadata": {
        "id": "QkoDacPwLVfn"
      },
      "execution_count": 8,
      "outputs": []
    },
    {
      "cell_type": "code",
      "source": [
        "import urllib.request"
      ],
      "metadata": {
        "id": "Xdjlf_KsLXbP"
      },
      "execution_count": 9,
      "outputs": []
    },
    {
      "cell_type": "code",
      "source": [
        "def getTitle(keyWord,startDate,endDate,start):\n",
        "  keyWord_encoding=urllib.parse.quote(keyWord)\n",
        "  url=f'https://search.naver.com/search.naver?where=news&sm=tab_pge&query={keyWord_encoding}&sort=0&photo=0&field=0&pd=3&ds={startDate}&de={endDate}&mynews=0&office_type=0&office_section_code=0&news_office_checked=&nso=so:r,p:from{startDate.replace(\".\",\"\")}to{endDate.replace(\".\",\"\")},a:all&start={start}'\n",
        "  print(url)\n",
        "  html=urllib.request.urlopen(url)\n",
        "  soup=BeautifulSoup(html,'html.parser')\n",
        "\n",
        "  ul = soup.find('ul',attrs={'class':'list_news'})\n",
        "  li_list=ul.find_all('li',attrs={'class':'bx'})\n",
        "  title=[ li.find('a',attrs={'class':'news_tit'}).get_text() for li in li_list]#find 한 개의 태그 반환\n",
        "  date=[ li.find_all('span',attrs={'class':'info'})[-1].get_text() for li in li_list] #find_all 무조건 리스트형식 반환\n",
        "  # li_list = soup.select('div > div.group_news > ul.list_news > li') \n",
        "  # title=[ li.select('a.news_tit')[0].text for li in li_list] #select는 무조건 리스트형식으로 반환 #text,get_text()기능 같다.\n",
        "  # date=[li.select('div.info_group>span.info')[-1].text for li in li_list]\n",
        "\n",
        "  return [ {'title':t,'date':d} for t,d in zip(title,date)]"
      ],
      "metadata": {
        "id": "-QIaZK6OaeKs"
      },
      "execution_count": 10,
      "outputs": []
    },
    {
      "cell_type": "code",
      "source": [
        "# result=[]\n",
        "# keyWord=input(\"검색어:\")\n",
        "# startDate=input(\"시작 날짜 입력:\")\n",
        "# endDate=input(\"종료 날짜 입력:\")\n",
        "# pagenum=int(input('크롤링 페이지 수:'))\n",
        "# for pagenum in tqdm(range(1,10*pagenum,10)):\n",
        "#     result+=getTitle(keyWord,startDate,endDate,pagenum)"
      ],
      "metadata": {
        "id": "Dqe-Net8cXmG"
      },
      "execution_count": 11,
      "outputs": []
    },
    {
      "cell_type": "code",
      "source": [
        "def searchKeyword():\n",
        "  result=[]\n",
        "  keyWord=input(\"검색어:\")\n",
        "  startDate=input(\"시작 날짜 입력:\")\n",
        "  endDate=input(\"종료 날짜 입력:\")\n",
        "  pagenum=int(input('크롤링 페이지 수:'))\n",
        "  for pagenum in tqdm(range(1,10*pagenum,10)):\n",
        "      result+=getTitle(keyWord,startDate,endDate,pagenum)  \n",
        "  return pd.DataFrame(result)"
      ],
      "metadata": {
        "id": "PEWfMaeitVjp"
      },
      "execution_count": 55,
      "outputs": []
    },
    {
      "cell_type": "code",
      "source": [
        "df_sm=searchKeyword()"
      ],
      "metadata": {
        "colab": {
          "base_uri": "https://localhost:8080/"
        },
        "id": "RbbYEpnQty9-",
        "outputId": "b2642892-d88a-49ee-9972-d9c236f0bfc6"
      },
      "execution_count": 56,
      "outputs": [
        {
          "name": "stdout",
          "output_type": "stream",
          "text": [
            "검색어:sm엔터\n",
            "시작 날짜 입력:2023.03.01\n",
            "종료 날짜 입력:2023.03.02\n",
            "크롤링 페이지 수:3\n"
          ]
        },
        {
          "output_type": "stream",
          "name": "stderr",
          "text": [
            "\r  0%|          | 0/3 [00:00<?, ?it/s]"
          ]
        },
        {
          "output_type": "stream",
          "name": "stdout",
          "text": [
            "https://search.naver.com/search.naver?where=news&sm=tab_pge&query=sm%EC%97%94%ED%84%B0&sort=0&photo=0&field=0&pd=3&ds=2023.03.01&de=2023.03.02&mynews=0&office_type=0&office_section_code=0&news_office_checked=&nso=so:r,p:from20230301to20230302,a:all&start=1\n"
          ]
        },
        {
          "output_type": "stream",
          "name": "stderr",
          "text": [
            "\r 33%|███▎      | 1/3 [00:01<00:03,  1.67s/it]"
          ]
        },
        {
          "output_type": "stream",
          "name": "stdout",
          "text": [
            "https://search.naver.com/search.naver?where=news&sm=tab_pge&query=sm%EC%97%94%ED%84%B0&sort=0&photo=0&field=0&pd=3&ds=2023.03.01&de=2023.03.02&mynews=0&office_type=0&office_section_code=0&news_office_checked=&nso=so:r,p:from20230301to20230302,a:all&start=11\n"
          ]
        },
        {
          "output_type": "stream",
          "name": "stderr",
          "text": [
            "\r 67%|██████▋   | 2/3 [00:03<00:01,  1.52s/it]"
          ]
        },
        {
          "output_type": "stream",
          "name": "stdout",
          "text": [
            "https://search.naver.com/search.naver?where=news&sm=tab_pge&query=sm%EC%97%94%ED%84%B0&sort=0&photo=0&field=0&pd=3&ds=2023.03.01&de=2023.03.02&mynews=0&office_type=0&office_section_code=0&news_office_checked=&nso=so:r,p:from20230301to20230302,a:all&start=21\n"
          ]
        },
        {
          "output_type": "stream",
          "name": "stderr",
          "text": [
            "100%|██████████| 3/3 [00:04<00:00,  1.53s/it]\n"
          ]
        }
      ]
    },
    {
      "cell_type": "code",
      "source": [
        "df_sm"
      ],
      "metadata": {
        "colab": {
          "base_uri": "https://localhost:8080/",
          "height": 990
        },
        "id": "p3EZtsN8ugWF",
        "outputId": "726bc68f-09ce-4cf2-f251-d03657b135ee"
      },
      "execution_count": 57,
      "outputs": [
        {
          "output_type": "execute_result",
          "data": {
            "text/plain": [
              "                                          title         date\n",
              "0               조현준 회장의 효성 계열사, SM엔터 지분 하이브에 매각  2023.03.02.\n",
              "1                     주총 의결권 확보 전쟁…SM엔터 주주서한 발송  2023.03.01.\n",
              "2              이복현 금감원장 “SM엔터 시세조종 의혹 무관용으로 엄단”  2023.03.02.\n",
              "3                             이래도 저래도…SM 쩐의 전쟁?  2023.03.02.\n",
              "4               금감원 \"SM엔터 공개매수 기간 내 대량매집 엄정 대응\"  2023.03.01.\n",
              "5              하이브, 'SM 공개매수' 실패… 31일 주총에 운명 건다  2023.03.02.\n",
              "6          분쟁 대응에 곳간 축난 SM엔터…재계약 앞둔 아티스트 이탈 우려도  2023.03.01.\n",
              "7                 SM엔터 시세조정 의혹에 금감원 \"조사 후 엄정대응\"  2023.03.01.\n",
              "8               IPO 앞둔 카카오엔터, 글로벌 K팝 대어 ’SM’ 군침  2023.03.02.\n",
              "9            금감원장, SM엔터 시세조종 의혹에 \"무관용으로 책임 묻겠다\"  2023.03.02.\n",
              "10          SM엔터 분쟁 후 첫 공식행사…에스파 콘서트 의미심장한 장면 셋  2023.03.02.\n",
              "11                     [SM엔터 쟁탈전] 원아시아파트너스의 정체는  2023.03.02.\n",
              "12            SM엔터 경영권 놓고 물밑 '불법견제' 있었나…감독당국 조사  2023.03.02.\n",
              "13        [특징주] '카카오 등판' 기대 업었나…SM, 장중 13만 원 넘어  2023.03.02.\n",
              "14                지난달 국내증시 거래대금 1위는 삼성전자…SM은 4위  2023.03.01.\n",
              "15      SM 인수했는데, 에스파만 남았다?..대형기획사 '러브콜' 받는 스타들  2023.03.02.\n",
              "16         이복현 금감원장 \"SM 주가 조종 의혹, 위법 있다면 용납 못해\"  2023.03.02.\n",
              "17                 [SM엔터 쟁탈전] '헬리오스제1호' 말고 또 있다  2023.03.01.\n",
              "18                SM 인수전 2막의 향배…3월 2株 예보 [마켓톡톡]  2023.03.02.\n",
              "19               공개매수 힘들게 SM주가 띄웠나…‘66만주’의문의 계좌  2023.03.01.\n",
              "20                             카카오, SM 공개매수 나서나  2023.03.01.\n",
              "21                 SM 엔터 분쟁과 한진칼 분쟁, 무엇이 같고 다른가  2023.03.01.\n",
              "22         [SM 진흙탕 분쟁] ①하이브·SM 분쟁, 미소 짓는 건 ‘주주’  2023.03.02.\n",
              "23          외나무 다리서 또 만난 화우 vs 태평양···SM戰 성적표 촉각  2023.03.02.\n",
              "24  [더벨][SM엔터 경영권 분쟁]장철혁, 홍콩 출장길…해외 우호세력 확보 목적?  2023.03.02.\n",
              "25           이복현 금감원장 \"SM 시세조정 의혹, 위법시 책임 물을 것\"  2023.03.02.\n",
              "26         삼성 에버랜드 닮은꼴 SM쟁탈전···제3자 신주 배정이 왜 문제?  2023.03.01.\n",
              "27       [기자수첩] 결국 SM을 향한 '스승의 은혜'는 불리지 못할 것인가?  2023.03.01.\n",
              "28              이젠 카카오의 시간…풀베팅 공개매수냐, 하이브와 동맹이냐  2023.03.01.\n",
              "29    [단독]하이브, 이수만에 700억 더 줬다…경영권 프리미엄 꼼수 지급 논란  2023.03.02."
            ],
            "text/html": [
              "\n",
              "  <div id=\"df-c7202223-762b-4e2b-8e95-751e33458b0b\">\n",
              "    <div class=\"colab-df-container\">\n",
              "      <div>\n",
              "<style scoped>\n",
              "    .dataframe tbody tr th:only-of-type {\n",
              "        vertical-align: middle;\n",
              "    }\n",
              "\n",
              "    .dataframe tbody tr th {\n",
              "        vertical-align: top;\n",
              "    }\n",
              "\n",
              "    .dataframe thead th {\n",
              "        text-align: right;\n",
              "    }\n",
              "</style>\n",
              "<table border=\"1\" class=\"dataframe\">\n",
              "  <thead>\n",
              "    <tr style=\"text-align: right;\">\n",
              "      <th></th>\n",
              "      <th>title</th>\n",
              "      <th>date</th>\n",
              "    </tr>\n",
              "  </thead>\n",
              "  <tbody>\n",
              "    <tr>\n",
              "      <th>0</th>\n",
              "      <td>조현준 회장의 효성 계열사, SM엔터 지분 하이브에 매각</td>\n",
              "      <td>2023.03.02.</td>\n",
              "    </tr>\n",
              "    <tr>\n",
              "      <th>1</th>\n",
              "      <td>주총 의결권 확보 전쟁…SM엔터 주주서한 발송</td>\n",
              "      <td>2023.03.01.</td>\n",
              "    </tr>\n",
              "    <tr>\n",
              "      <th>2</th>\n",
              "      <td>이복현 금감원장 “SM엔터 시세조종 의혹 무관용으로 엄단”</td>\n",
              "      <td>2023.03.02.</td>\n",
              "    </tr>\n",
              "    <tr>\n",
              "      <th>3</th>\n",
              "      <td>이래도 저래도…SM 쩐의 전쟁?</td>\n",
              "      <td>2023.03.02.</td>\n",
              "    </tr>\n",
              "    <tr>\n",
              "      <th>4</th>\n",
              "      <td>금감원 \"SM엔터 공개매수 기간 내 대량매집 엄정 대응\"</td>\n",
              "      <td>2023.03.01.</td>\n",
              "    </tr>\n",
              "    <tr>\n",
              "      <th>5</th>\n",
              "      <td>하이브, 'SM 공개매수' 실패… 31일 주총에 운명 건다</td>\n",
              "      <td>2023.03.02.</td>\n",
              "    </tr>\n",
              "    <tr>\n",
              "      <th>6</th>\n",
              "      <td>분쟁 대응에 곳간 축난 SM엔터…재계약 앞둔 아티스트 이탈 우려도</td>\n",
              "      <td>2023.03.01.</td>\n",
              "    </tr>\n",
              "    <tr>\n",
              "      <th>7</th>\n",
              "      <td>SM엔터 시세조정 의혹에 금감원 \"조사 후 엄정대응\"</td>\n",
              "      <td>2023.03.01.</td>\n",
              "    </tr>\n",
              "    <tr>\n",
              "      <th>8</th>\n",
              "      <td>IPO 앞둔 카카오엔터, 글로벌 K팝 대어 ’SM’ 군침</td>\n",
              "      <td>2023.03.02.</td>\n",
              "    </tr>\n",
              "    <tr>\n",
              "      <th>9</th>\n",
              "      <td>금감원장, SM엔터 시세조종 의혹에 \"무관용으로 책임 묻겠다\"</td>\n",
              "      <td>2023.03.02.</td>\n",
              "    </tr>\n",
              "    <tr>\n",
              "      <th>10</th>\n",
              "      <td>SM엔터 분쟁 후 첫 공식행사…에스파 콘서트 의미심장한 장면 셋</td>\n",
              "      <td>2023.03.02.</td>\n",
              "    </tr>\n",
              "    <tr>\n",
              "      <th>11</th>\n",
              "      <td>[SM엔터 쟁탈전] 원아시아파트너스의 정체는</td>\n",
              "      <td>2023.03.02.</td>\n",
              "    </tr>\n",
              "    <tr>\n",
              "      <th>12</th>\n",
              "      <td>SM엔터 경영권 놓고 물밑 '불법견제' 있었나…감독당국 조사</td>\n",
              "      <td>2023.03.02.</td>\n",
              "    </tr>\n",
              "    <tr>\n",
              "      <th>13</th>\n",
              "      <td>[특징주] '카카오 등판' 기대 업었나…SM, 장중 13만 원 넘어</td>\n",
              "      <td>2023.03.02.</td>\n",
              "    </tr>\n",
              "    <tr>\n",
              "      <th>14</th>\n",
              "      <td>지난달 국내증시 거래대금 1위는 삼성전자…SM은 4위</td>\n",
              "      <td>2023.03.01.</td>\n",
              "    </tr>\n",
              "    <tr>\n",
              "      <th>15</th>\n",
              "      <td>SM 인수했는데, 에스파만 남았다?..대형기획사 '러브콜' 받는 스타들</td>\n",
              "      <td>2023.03.02.</td>\n",
              "    </tr>\n",
              "    <tr>\n",
              "      <th>16</th>\n",
              "      <td>이복현 금감원장 \"SM 주가 조종 의혹, 위법 있다면 용납 못해\"</td>\n",
              "      <td>2023.03.02.</td>\n",
              "    </tr>\n",
              "    <tr>\n",
              "      <th>17</th>\n",
              "      <td>[SM엔터 쟁탈전] '헬리오스제1호' 말고 또 있다</td>\n",
              "      <td>2023.03.01.</td>\n",
              "    </tr>\n",
              "    <tr>\n",
              "      <th>18</th>\n",
              "      <td>SM 인수전 2막의 향배…3월 2株 예보 [마켓톡톡]</td>\n",
              "      <td>2023.03.02.</td>\n",
              "    </tr>\n",
              "    <tr>\n",
              "      <th>19</th>\n",
              "      <td>공개매수 힘들게 SM주가 띄웠나…‘66만주’의문의 계좌</td>\n",
              "      <td>2023.03.01.</td>\n",
              "    </tr>\n",
              "    <tr>\n",
              "      <th>20</th>\n",
              "      <td>카카오, SM 공개매수 나서나</td>\n",
              "      <td>2023.03.01.</td>\n",
              "    </tr>\n",
              "    <tr>\n",
              "      <th>21</th>\n",
              "      <td>SM 엔터 분쟁과 한진칼 분쟁, 무엇이 같고 다른가</td>\n",
              "      <td>2023.03.01.</td>\n",
              "    </tr>\n",
              "    <tr>\n",
              "      <th>22</th>\n",
              "      <td>[SM 진흙탕 분쟁] ①하이브·SM 분쟁, 미소 짓는 건 ‘주주’</td>\n",
              "      <td>2023.03.02.</td>\n",
              "    </tr>\n",
              "    <tr>\n",
              "      <th>23</th>\n",
              "      <td>외나무 다리서 또 만난 화우 vs 태평양···SM戰 성적표 촉각</td>\n",
              "      <td>2023.03.02.</td>\n",
              "    </tr>\n",
              "    <tr>\n",
              "      <th>24</th>\n",
              "      <td>[더벨][SM엔터 경영권 분쟁]장철혁, 홍콩 출장길…해외 우호세력 확보 목적?</td>\n",
              "      <td>2023.03.02.</td>\n",
              "    </tr>\n",
              "    <tr>\n",
              "      <th>25</th>\n",
              "      <td>이복현 금감원장 \"SM 시세조정 의혹, 위법시 책임 물을 것\"</td>\n",
              "      <td>2023.03.02.</td>\n",
              "    </tr>\n",
              "    <tr>\n",
              "      <th>26</th>\n",
              "      <td>삼성 에버랜드 닮은꼴 SM쟁탈전···제3자 신주 배정이 왜 문제?</td>\n",
              "      <td>2023.03.01.</td>\n",
              "    </tr>\n",
              "    <tr>\n",
              "      <th>27</th>\n",
              "      <td>[기자수첩] 결국 SM을 향한 '스승의 은혜'는 불리지 못할 것인가?</td>\n",
              "      <td>2023.03.01.</td>\n",
              "    </tr>\n",
              "    <tr>\n",
              "      <th>28</th>\n",
              "      <td>이젠 카카오의 시간…풀베팅 공개매수냐, 하이브와 동맹이냐</td>\n",
              "      <td>2023.03.01.</td>\n",
              "    </tr>\n",
              "    <tr>\n",
              "      <th>29</th>\n",
              "      <td>[단독]하이브, 이수만에 700억 더 줬다…경영권 프리미엄 꼼수 지급 논란</td>\n",
              "      <td>2023.03.02.</td>\n",
              "    </tr>\n",
              "  </tbody>\n",
              "</table>\n",
              "</div>\n",
              "      <button class=\"colab-df-convert\" onclick=\"convertToInteractive('df-c7202223-762b-4e2b-8e95-751e33458b0b')\"\n",
              "              title=\"Convert this dataframe to an interactive table.\"\n",
              "              style=\"display:none;\">\n",
              "        \n",
              "  <svg xmlns=\"http://www.w3.org/2000/svg\" height=\"24px\"viewBox=\"0 0 24 24\"\n",
              "       width=\"24px\">\n",
              "    <path d=\"M0 0h24v24H0V0z\" fill=\"none\"/>\n",
              "    <path d=\"M18.56 5.44l.94 2.06.94-2.06 2.06-.94-2.06-.94-.94-2.06-.94 2.06-2.06.94zm-11 1L8.5 8.5l.94-2.06 2.06-.94-2.06-.94L8.5 2.5l-.94 2.06-2.06.94zm10 10l.94 2.06.94-2.06 2.06-.94-2.06-.94-.94-2.06-.94 2.06-2.06.94z\"/><path d=\"M17.41 7.96l-1.37-1.37c-.4-.4-.92-.59-1.43-.59-.52 0-1.04.2-1.43.59L10.3 9.45l-7.72 7.72c-.78.78-.78 2.05 0 2.83L4 21.41c.39.39.9.59 1.41.59.51 0 1.02-.2 1.41-.59l7.78-7.78 2.81-2.81c.8-.78.8-2.07 0-2.86zM5.41 20L4 18.59l7.72-7.72 1.47 1.35L5.41 20z\"/>\n",
              "  </svg>\n",
              "      </button>\n",
              "      \n",
              "  <style>\n",
              "    .colab-df-container {\n",
              "      display:flex;\n",
              "      flex-wrap:wrap;\n",
              "      gap: 12px;\n",
              "    }\n",
              "\n",
              "    .colab-df-convert {\n",
              "      background-color: #E8F0FE;\n",
              "      border: none;\n",
              "      border-radius: 50%;\n",
              "      cursor: pointer;\n",
              "      display: none;\n",
              "      fill: #1967D2;\n",
              "      height: 32px;\n",
              "      padding: 0 0 0 0;\n",
              "      width: 32px;\n",
              "    }\n",
              "\n",
              "    .colab-df-convert:hover {\n",
              "      background-color: #E2EBFA;\n",
              "      box-shadow: 0px 1px 2px rgba(60, 64, 67, 0.3), 0px 1px 3px 1px rgba(60, 64, 67, 0.15);\n",
              "      fill: #174EA6;\n",
              "    }\n",
              "\n",
              "    [theme=dark] .colab-df-convert {\n",
              "      background-color: #3B4455;\n",
              "      fill: #D2E3FC;\n",
              "    }\n",
              "\n",
              "    [theme=dark] .colab-df-convert:hover {\n",
              "      background-color: #434B5C;\n",
              "      box-shadow: 0px 1px 3px 1px rgba(0, 0, 0, 0.15);\n",
              "      filter: drop-shadow(0px 1px 2px rgba(0, 0, 0, 0.3));\n",
              "      fill: #FFFFFF;\n",
              "    }\n",
              "  </style>\n",
              "\n",
              "      <script>\n",
              "        const buttonEl =\n",
              "          document.querySelector('#df-c7202223-762b-4e2b-8e95-751e33458b0b button.colab-df-convert');\n",
              "        buttonEl.style.display =\n",
              "          google.colab.kernel.accessAllowed ? 'block' : 'none';\n",
              "\n",
              "        async function convertToInteractive(key) {\n",
              "          const element = document.querySelector('#df-c7202223-762b-4e2b-8e95-751e33458b0b');\n",
              "          const dataTable =\n",
              "            await google.colab.kernel.invokeFunction('convertToInteractive',\n",
              "                                                     [key], {});\n",
              "          if (!dataTable) return;\n",
              "\n",
              "          const docLinkHtml = 'Like what you see? Visit the ' +\n",
              "            '<a target=\"_blank\" href=https://colab.research.google.com/notebooks/data_table.ipynb>data table notebook</a>'\n",
              "            + ' to learn more about interactive tables.';\n",
              "          element.innerHTML = '';\n",
              "          dataTable['output_type'] = 'display_data';\n",
              "          await google.colab.output.renderOutput(dataTable, element);\n",
              "          const docLink = document.createElement('div');\n",
              "          docLink.innerHTML = docLinkHtml;\n",
              "          element.appendChild(docLink);\n",
              "        }\n",
              "      </script>\n",
              "    </div>\n",
              "  </div>\n",
              "  "
            ]
          },
          "metadata": {},
          "execution_count": 57
        }
      ]
    },
    {
      "cell_type": "code",
      "source": [
        "df_sm.date.unique()"
      ],
      "metadata": {
        "colab": {
          "base_uri": "https://localhost:8080/"
        },
        "id": "TEMePrVQujrF",
        "outputId": "f801aa79-9426-44bb-c689-a5ebc9bf5ed8"
      },
      "execution_count": 58,
      "outputs": [
        {
          "output_type": "execute_result",
          "data": {
            "text/plain": [
              "array(['2023.03.02.', '2023.03.01.'], dtype=object)"
            ]
          },
          "metadata": {},
          "execution_count": 58
        }
      ]
    },
    {
      "cell_type": "code",
      "source": [
        "sorted(df_sm.date.unique())"
      ],
      "metadata": {
        "colab": {
          "base_uri": "https://localhost:8080/"
        },
        "id": "ZAxMyzYOlsWk",
        "outputId": "c62a776d-fdea-4126-bfb7-36c3be257a5c"
      },
      "execution_count": 59,
      "outputs": [
        {
          "output_type": "execute_result",
          "data": {
            "text/plain": [
              "['2023.03.01.', '2023.03.02.']"
            ]
          },
          "metadata": {},
          "execution_count": 59
        }
      ]
    },
    {
      "cell_type": "markdown",
      "source": [
        "# 워드클라우드 만들기"
      ],
      "metadata": {
        "id": "HxSIZkQHUKVp"
      }
    },
    {
      "cell_type": "code",
      "source": [
        "import nltk\n",
        "nltk.download('punkt')\n",
        "nltk.download('webtext')\n",
        "nltk.download('wordnet')\n",
        "nltk.download('stopwords')\n",
        "nltk.download('averaged_perceptron_tagger')\n",
        "\n",
        "nltk.download('gutenberg')"
      ],
      "metadata": {
        "colab": {
          "base_uri": "https://localhost:8080/"
        },
        "id": "zGjd_adbneUl",
        "outputId": "70a17339-10dd-4fcf-d3f9-78cf593e0a4a"
      },
      "execution_count": 33,
      "outputs": [
        {
          "output_type": "stream",
          "name": "stderr",
          "text": [
            "[nltk_data] Downloading package punkt to /root/nltk_data...\n",
            "[nltk_data]   Unzipping tokenizers/punkt.zip.\n",
            "[nltk_data] Downloading package webtext to /root/nltk_data...\n",
            "[nltk_data]   Unzipping corpora/webtext.zip.\n",
            "[nltk_data] Downloading package wordnet to /root/nltk_data...\n",
            "[nltk_data] Downloading package stopwords to /root/nltk_data...\n",
            "[nltk_data]   Unzipping corpora/stopwords.zip.\n",
            "[nltk_data] Downloading package averaged_perceptron_tagger to\n",
            "[nltk_data]     /root/nltk_data...\n",
            "[nltk_data]   Unzipping taggers/averaged_perceptron_tagger.zip.\n",
            "[nltk_data] Downloading package gutenberg to /root/nltk_data...\n",
            "[nltk_data]   Unzipping corpora/gutenberg.zip.\n"
          ]
        },
        {
          "output_type": "execute_result",
          "data": {
            "text/plain": [
              "True"
            ]
          },
          "metadata": {},
          "execution_count": 33
        }
      ]
    },
    {
      "cell_type": "code",
      "source": [
        "!pip install konlpy "
      ],
      "metadata": {
        "colab": {
          "base_uri": "https://localhost:8080/"
        },
        "id": "L3e-Tu6Vgnvk",
        "outputId": "cc2071c6-d4ff-426c-fea3-596f9cfe4e5d"
      },
      "execution_count": 22,
      "outputs": [
        {
          "output_type": "stream",
          "name": "stdout",
          "text": [
            "Looking in indexes: https://pypi.org/simple, https://us-python.pkg.dev/colab-wheels/public/simple/\n",
            "Collecting konlpy\n",
            "  Downloading konlpy-0.6.0-py2.py3-none-any.whl (19.4 MB)\n",
            "\u001b[2K     \u001b[90m━━━━━━━━━━━━━━━━━━━━━━━━━━━━━━━━━━━━━━━━\u001b[0m \u001b[32m19.4/19.4 MB\u001b[0m \u001b[31m63.8 MB/s\u001b[0m eta \u001b[36m0:00:00\u001b[0m\n",
            "\u001b[?25hCollecting JPype1>=0.7.0\n",
            "  Downloading JPype1-1.4.1-cp39-cp39-manylinux_2_12_x86_64.manylinux2010_x86_64.whl (465 kB)\n",
            "\u001b[2K     \u001b[90m━━━━━━━━━━━━━━━━━━━━━━━━━━━━━━━━━━━━━━\u001b[0m \u001b[32m465.3/465.3 KB\u001b[0m \u001b[31m36.0 MB/s\u001b[0m eta \u001b[36m0:00:00\u001b[0m\n",
            "\u001b[?25hRequirement already satisfied: numpy>=1.6 in /usr/local/lib/python3.9/dist-packages (from konlpy) (1.22.4)\n",
            "Requirement already satisfied: lxml>=4.1.0 in /usr/local/lib/python3.9/dist-packages (from konlpy) (4.9.2)\n",
            "Requirement already satisfied: packaging in /usr/local/lib/python3.9/dist-packages (from JPype1>=0.7.0->konlpy) (23.0)\n",
            "Installing collected packages: JPype1, konlpy\n",
            "Successfully installed JPype1-1.4.1 konlpy-0.6.0\n"
          ]
        }
      ]
    },
    {
      "cell_type": "code",
      "source": [
        "import konlpy\n",
        "from konlpy.tag import Okt\n",
        "import re\n",
        "from functools import reduce\n",
        "from collections import Counter #데이터 집합에서 개수를 자동으로 계산"
      ],
      "metadata": {
        "id": "i0HWBvn2ixn0"
      },
      "execution_count": 23,
      "outputs": []
    },
    {
      "cell_type": "code",
      "source": [
        "t=Okt()"
      ],
      "metadata": {
        "id": "cNQNLuPTjk9s"
      },
      "execution_count": 24,
      "outputs": []
    },
    {
      "cell_type": "code",
      "source": [
        "from nltk.tokenize import word_tokenize\n",
        "from nltk.tokenize import RegexpTokenizer"
      ],
      "metadata": {
        "id": "-h0EFJt7nA5l"
      },
      "execution_count": 64,
      "outputs": []
    },
    {
      "cell_type": "code",
      "source": [
        "sm_token=[]\n",
        "for text in df_sm.title:\n",
        "    tokenizer=RegexpTokenizer(\"[\\w]{2,}\")\n",
        "    reg_tokens=tokenizer.tokenize(text)\n",
        "    sm_token.append(reg_tokens)\n",
        "sm_token"
      ],
      "metadata": {
        "colab": {
          "base_uri": "https://localhost:8080/"
        },
        "id": "Zy_bOoUfnJPl",
        "outputId": "89286a92-a576-4836-8c47-9cea2ac689ce"
      },
      "execution_count": 94,
      "outputs": [
        {
          "output_type": "execute_result",
          "data": {
            "text/plain": [
              "[['조현준', '회장의', '효성', '계열사', 'SM엔터', '지분', '하이브에', '매각'],\n",
              " ['주총', '의결권', '확보', '전쟁', 'SM엔터', '주주서한', '발송'],\n",
              " ['이복현', '금감원장', 'SM엔터', '시세조종', '의혹', '무관용으로', '엄단'],\n",
              " ['이래도', '저래도', 'SM', '쩐의', '전쟁'],\n",
              " ['금감원', 'SM엔터', '공개매수', '기간', '대량매집', '엄정', '대응'],\n",
              " ['하이브', 'SM', '공개매수', '실패', '31일', '주총에', '운명', '건다'],\n",
              " ['분쟁', '대응에', '곳간', '축난', 'SM엔터', '재계약', '앞둔', '아티스트', '이탈', '우려도'],\n",
              " ['SM엔터', '시세조정', '의혹에', '금감원', '조사', '엄정대응'],\n",
              " ['IPO', '앞둔', '카카오엔터', '글로벌', 'K팝', '대어', 'SM', '군침'],\n",
              " ['금감원장', 'SM엔터', '시세조종', '의혹에', '무관용으로', '책임', '묻겠다'],\n",
              " ['SM엔터', '분쟁', '공식행사', '에스파', '콘서트', '의미심장한', '장면'],\n",
              " ['SM엔터', '쟁탈전', '원아시아파트너스의', '정체는'],\n",
              " ['SM엔터', '경영권', '놓고', '물밑', '불법견제', '있었나', '감독당국', '조사'],\n",
              " ['특징주', '카카오', '등판', '기대', '업었나', 'SM', '장중', '13만', '넘어'],\n",
              " ['지난달', '국내증시', '거래대금', '1위는', '삼성전자', 'SM은', '4위'],\n",
              " ['SM', '인수했는데', '에스파만', '남았다', '대형기획사', '러브콜', '받는', '스타들'],\n",
              " ['이복현', '금감원장', 'SM', '주가', '조종', '의혹', '위법', '있다면', '용납', '못해'],\n",
              " ['SM엔터', '쟁탈전', '헬리오스제1호', '말고', '있다'],\n",
              " ['SM', '인수전', '2막의', '향배', '3월', '2株', '예보', '마켓톡톡'],\n",
              " ['공개매수', '힘들게', 'SM주가', '띄웠나', '66만주', '의문의', '계좌'],\n",
              " ['카카오', 'SM', '공개매수', '나서나'],\n",
              " ['SM', '엔터', '분쟁과', '한진칼', '분쟁', '무엇이', '같고', '다른가'],\n",
              " ['SM', '진흙탕', '분쟁', '①하이브', 'SM', '분쟁', '미소', '짓는', '주주'],\n",
              " ['외나무', '다리서', '만난', '화우', 'vs', '태평양', 'SM戰', '성적표', '촉각'],\n",
              " ['더벨', 'SM엔터', '경영권', '분쟁', '장철혁', '홍콩', '출장길', '해외', '우호세력', '확보', '목적'],\n",
              " ['이복현', '금감원장', 'SM', '시세조정', '의혹', '위법시', '책임', '물을'],\n",
              " ['삼성', '에버랜드', '닮은꼴', 'SM쟁탈전', '제3자', '신주', '배정이', '문제'],\n",
              " ['기자수첩', '결국', 'SM을', '향한', '스승의', '은혜', '불리지', '못할', '것인가'],\n",
              " ['이젠', '카카오의', '시간', '풀베팅', '공개매수냐', '하이브와', '동맹이냐'],\n",
              " ['단독', '하이브', '이수만에', '700억', '줬다', '경영권', '프리미엄', '꼼수', '지급', '논란']]"
            ]
          },
          "metadata": {},
          "execution_count": 94
        }
      ]
    },
    {
      "cell_type": "code",
      "source": [
        "# sm_noun2=[]\n",
        "# for text in df_sm.title:\n",
        "#     message=re.sub(r\"[^A-Za-zㄱ-ㅎ가-힣]+\",\" \",text)\n",
        "#     message_n=t.nouns(message)\n",
        "#     sm_noun2.append(message_n)\n",
        "# sm_noun2"
      ],
      "metadata": {
        "id": "WQ0cWsa3iyzM"
      },
      "execution_count": 95,
      "outputs": []
    },
    {
      "cell_type": "code",
      "source": [
        "sm_stopwords=['SM엔터','SM','SM엔터테인먼트']\n",
        "sm_token=reduce(lambda x,y:x+y,sm_token)\n",
        "sm_token=[token for token in sm_token if token not in sm_stopwords]\n",
        "sm_token_count=Counter(sm_token)\n"
      ],
      "metadata": {
        "id": "Mq-e-_D5jqgN"
      },
      "execution_count": 96,
      "outputs": []
    },
    {
      "cell_type": "code",
      "source": [
        "sm_token_count_30=sm_token_count.most_common(30)\n",
        "sm_token_count_30_df=pd.DataFrame(sm_token_count_30,columns=['단어','단어수'])\n",
        "sm_token_count_30_df.head()"
      ],
      "metadata": {
        "colab": {
          "base_uri": "https://localhost:8080/",
          "height": 206
        },
        "id": "ifT85GGBj9VK",
        "outputId": "6e4df2b1-4717-4a24-a9ff-5827d86f5f0a"
      },
      "execution_count": 97,
      "outputs": [
        {
          "output_type": "execute_result",
          "data": {
            "text/plain": [
              "     단어  단어수\n",
              "0    분쟁    6\n",
              "1  금감원장    4\n",
              "2  공개매수    4\n",
              "3   이복현    3\n",
              "4    의혹    3"
            ],
            "text/html": [
              "\n",
              "  <div id=\"df-7ed2d8d0-c7ff-4ef7-a4c0-a450037bd78c\">\n",
              "    <div class=\"colab-df-container\">\n",
              "      <div>\n",
              "<style scoped>\n",
              "    .dataframe tbody tr th:only-of-type {\n",
              "        vertical-align: middle;\n",
              "    }\n",
              "\n",
              "    .dataframe tbody tr th {\n",
              "        vertical-align: top;\n",
              "    }\n",
              "\n",
              "    .dataframe thead th {\n",
              "        text-align: right;\n",
              "    }\n",
              "</style>\n",
              "<table border=\"1\" class=\"dataframe\">\n",
              "  <thead>\n",
              "    <tr style=\"text-align: right;\">\n",
              "      <th></th>\n",
              "      <th>단어</th>\n",
              "      <th>단어수</th>\n",
              "    </tr>\n",
              "  </thead>\n",
              "  <tbody>\n",
              "    <tr>\n",
              "      <th>0</th>\n",
              "      <td>분쟁</td>\n",
              "      <td>6</td>\n",
              "    </tr>\n",
              "    <tr>\n",
              "      <th>1</th>\n",
              "      <td>금감원장</td>\n",
              "      <td>4</td>\n",
              "    </tr>\n",
              "    <tr>\n",
              "      <th>2</th>\n",
              "      <td>공개매수</td>\n",
              "      <td>4</td>\n",
              "    </tr>\n",
              "    <tr>\n",
              "      <th>3</th>\n",
              "      <td>이복현</td>\n",
              "      <td>3</td>\n",
              "    </tr>\n",
              "    <tr>\n",
              "      <th>4</th>\n",
              "      <td>의혹</td>\n",
              "      <td>3</td>\n",
              "    </tr>\n",
              "  </tbody>\n",
              "</table>\n",
              "</div>\n",
              "      <button class=\"colab-df-convert\" onclick=\"convertToInteractive('df-7ed2d8d0-c7ff-4ef7-a4c0-a450037bd78c')\"\n",
              "              title=\"Convert this dataframe to an interactive table.\"\n",
              "              style=\"display:none;\">\n",
              "        \n",
              "  <svg xmlns=\"http://www.w3.org/2000/svg\" height=\"24px\"viewBox=\"0 0 24 24\"\n",
              "       width=\"24px\">\n",
              "    <path d=\"M0 0h24v24H0V0z\" fill=\"none\"/>\n",
              "    <path d=\"M18.56 5.44l.94 2.06.94-2.06 2.06-.94-2.06-.94-.94-2.06-.94 2.06-2.06.94zm-11 1L8.5 8.5l.94-2.06 2.06-.94-2.06-.94L8.5 2.5l-.94 2.06-2.06.94zm10 10l.94 2.06.94-2.06 2.06-.94-2.06-.94-.94-2.06-.94 2.06-2.06.94z\"/><path d=\"M17.41 7.96l-1.37-1.37c-.4-.4-.92-.59-1.43-.59-.52 0-1.04.2-1.43.59L10.3 9.45l-7.72 7.72c-.78.78-.78 2.05 0 2.83L4 21.41c.39.39.9.59 1.41.59.51 0 1.02-.2 1.41-.59l7.78-7.78 2.81-2.81c.8-.78.8-2.07 0-2.86zM5.41 20L4 18.59l7.72-7.72 1.47 1.35L5.41 20z\"/>\n",
              "  </svg>\n",
              "      </button>\n",
              "      \n",
              "  <style>\n",
              "    .colab-df-container {\n",
              "      display:flex;\n",
              "      flex-wrap:wrap;\n",
              "      gap: 12px;\n",
              "    }\n",
              "\n",
              "    .colab-df-convert {\n",
              "      background-color: #E8F0FE;\n",
              "      border: none;\n",
              "      border-radius: 50%;\n",
              "      cursor: pointer;\n",
              "      display: none;\n",
              "      fill: #1967D2;\n",
              "      height: 32px;\n",
              "      padding: 0 0 0 0;\n",
              "      width: 32px;\n",
              "    }\n",
              "\n",
              "    .colab-df-convert:hover {\n",
              "      background-color: #E2EBFA;\n",
              "      box-shadow: 0px 1px 2px rgba(60, 64, 67, 0.3), 0px 1px 3px 1px rgba(60, 64, 67, 0.15);\n",
              "      fill: #174EA6;\n",
              "    }\n",
              "\n",
              "    [theme=dark] .colab-df-convert {\n",
              "      background-color: #3B4455;\n",
              "      fill: #D2E3FC;\n",
              "    }\n",
              "\n",
              "    [theme=dark] .colab-df-convert:hover {\n",
              "      background-color: #434B5C;\n",
              "      box-shadow: 0px 1px 3px 1px rgba(0, 0, 0, 0.15);\n",
              "      filter: drop-shadow(0px 1px 2px rgba(0, 0, 0, 0.3));\n",
              "      fill: #FFFFFF;\n",
              "    }\n",
              "  </style>\n",
              "\n",
              "      <script>\n",
              "        const buttonEl =\n",
              "          document.querySelector('#df-7ed2d8d0-c7ff-4ef7-a4c0-a450037bd78c button.colab-df-convert');\n",
              "        buttonEl.style.display =\n",
              "          google.colab.kernel.accessAllowed ? 'block' : 'none';\n",
              "\n",
              "        async function convertToInteractive(key) {\n",
              "          const element = document.querySelector('#df-7ed2d8d0-c7ff-4ef7-a4c0-a450037bd78c');\n",
              "          const dataTable =\n",
              "            await google.colab.kernel.invokeFunction('convertToInteractive',\n",
              "                                                     [key], {});\n",
              "          if (!dataTable) return;\n",
              "\n",
              "          const docLinkHtml = 'Like what you see? Visit the ' +\n",
              "            '<a target=\"_blank\" href=https://colab.research.google.com/notebooks/data_table.ipynb>data table notebook</a>'\n",
              "            + ' to learn more about interactive tables.';\n",
              "          element.innerHTML = '';\n",
              "          dataTable['output_type'] = 'display_data';\n",
              "          await google.colab.output.renderOutput(dataTable, element);\n",
              "          const docLink = document.createElement('div');\n",
              "          docLink.innerHTML = docLinkHtml;\n",
              "          element.appendChild(docLink);\n",
              "        }\n",
              "      </script>\n",
              "    </div>\n",
              "  </div>\n",
              "  "
            ]
          },
          "metadata": {},
          "execution_count": 97
        }
      ]
    },
    {
      "cell_type": "code",
      "source": [
        "plt.figure(figsize=(30,5))\n",
        "sns.barplot(data=sm_token_count_30_df,x='단어',y='단어수')\n",
        "plt.xticks(rotation=80)\n",
        "plt.show()"
      ],
      "metadata": {
        "colab": {
          "base_uri": "https://localhost:8080/",
          "height": 321
        },
        "id": "9Vz0qZaJkK2k",
        "outputId": "b7048ce6-4956-48b8-ecc9-d63801151af5"
      },
      "execution_count": 98,
      "outputs": [
        {
          "output_type": "display_data",
          "data": {
            "text/plain": [
              "<Figure size 2160x360 with 1 Axes>"
            ],
            "image/png": "[encoded data removed]"
          },
          "metadata": {
            "needs_background": "light"
          }
        }
      ]
    },
    {
      "cell_type": "code",
      "source": [
        "from wordcloud import WordCloud\n",
        "from PIL import Image"
      ],
      "metadata": {
        "id": "HI6YVeDJkMdk"
      },
      "execution_count": 102,
      "outputs": []
    },
    {
      "cell_type": "code",
      "source": [
        "cloud_mask=np.array(Image.open('/content/sample_data/cloudimage.png'))\n",
        "\n",
        "\n",
        "sm_2022_token_count_30_dic=dict(sm_token_count_30)\n",
        "\n",
        "wc=WordCloud(\n",
        "    background_color='white',\n",
        "    width=1000,height=600,\n",
        "    font_path='NanumBarunGothic',\n",
        "    mask=cloud_mask\n",
        "    )\n",
        "cloud=wc.generate_from_frequencies(sm_2022_token_count_30_dic)\n",
        "plt.imshow(cloud,interpolation='bilinear')\n",
        "plt.axis('off')\n",
        "plt.show()"
      ],
      "metadata": {
        "colab": {
          "base_uri": "https://localhost:8080/",
          "height": 248
        },
        "id": "cpJX1ALukvT7",
        "outputId": "2adbd8d3-8552-4ac5-b5b3-2b5606b5f5f1"
      },
      "execution_count": 122,
      "outputs": [
        {
          "output_type": "display_data",
          "data": {
            "text/plain": [
              "<Figure size 432x288 with 1 Axes>"
            ],
            "image/png": "[encoded data removed]"
          },
          "metadata": {
            "needs_background": "light"
          }
        }
      ]
    },
    {
      "cell_type": "code",
      "source": [],
      "metadata": {
        "id": "lmYfyqeJ0CTg"
      },
      "execution_count": null,
      "outputs": []
    }
  ]
}